{
  "cells": [
    {
      "cell_type": "raw",
      "metadata": {},
      "source": [
        "---\n",
        "title: WebR2 in Quarto HTML Documents\n",
        "format: html\n",
        "filters:\n",
        "  - webr\n",
        "---"
      ],
      "id": "af630df5"
    },
    {
      "cell_type": "markdown",
      "metadata": {},
      "source": [
        "## Quarto\n",
        "\n",
        "Quarto enables you to weave together content and executable code into a finished document. To learn more about Quarto see <https://quarto.org>.\n",
        "\n",
        "\n",
        "```{webr}\n",
        "1 + 1\n",
        "```\n",
        "\n",
        "```{webr}\n",
        "fit = lm(mpg ~ am, data = mtcars)\n",
        "summary(fit)\n",
        "```\n",
        "\n",
        "\n",
        "\n",
        "## Heading\n",
        "\n",
        "\n",
        "```{webr}\n",
        "1 + 1 \n",
        "```\n",
        "\n",
        "```{webr}\n",
        "message(\"hello\")\n",
        "```"
      ],
      "id": "5731fc28"
    }
  ],
  "metadata": {
    "kernelspec": {
      "display_name": "Python 3",
      "language": "python",
      "name": "python3"
    }
  },
  "nbformat": 4,
  "nbformat_minor": 5
}